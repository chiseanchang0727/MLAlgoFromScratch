{
 "cells": [
  {
   "cell_type": "code",
   "execution_count": 47,
   "id": "4f2b523c",
   "metadata": {},
   "outputs": [],
   "source": [
    "def minRotations(array):\n",
    "    length = len(array)\n",
    "    \n",
    "    l = 0\n",
    "    r = length - 1\n",
    "    \n",
    "    while (array[l] == array[r]):\n",
    "        r -= 1\n",
    "    \n",
    "    if array[l] <= array[r]:\n",
    "        return array[l]\n",
    "    \n",
    "    while (l < r):\n",
    "        \n",
    "        m = l + (r-l)//2\n",
    "        \n",
    "        if array[m] >= array[0]:\n",
    "            l = m + 1\n",
    "        else:\n",
    "            r = m\n",
    "    return array[l]  "
   ]
  },
  {
   "cell_type": "code",
   "execution_count": 48,
   "id": "335affdb",
   "metadata": {},
   "outputs": [
    {
     "data": {
      "text/plain": [
       "2"
      ]
     },
     "execution_count": 48,
     "metadata": {},
     "output_type": "execute_result"
    }
   ],
   "source": [
    "input_array = [3,3,3,4,5,2,3]\n",
    "minRotations(input_array)"
   ]
  }
 ],
 "metadata": {
  "kernelspec": {
   "display_name": "mlalgofromscratch (3.11.12)",
   "language": "python",
   "name": "python3"
  },
  "language_info": {
   "codemirror_mode": {
    "name": "ipython",
    "version": 3
   },
   "file_extension": ".py",
   "mimetype": "text/x-python",
   "name": "python",
   "nbconvert_exporter": "python",
   "pygments_lexer": "ipython3",
   "version": "3.11.12"
  }
 },
 "nbformat": 4,
 "nbformat_minor": 5
}
