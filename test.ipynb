{
 "cells": [
  {
   "cell_type": "code",
   "execution_count": 47,
   "id": "4f2b523c",
   "metadata": {},
   "outputs": [],
   "source": [
    "def minRotations(array):\n",
    "    length = len(array)\n",
    "    \n",
    "    l = 0\n",
    "    r = length - 1\n",
    "    \n",
    "    while (array[l] == array[r]):\n",
    "        r -= 1\n",
    "    \n",
    "    if array[l] <= array[r]:\n",
    "        return array[l]\n",
    "    \n",
    "    while (l < r):\n",
    "        \n",
    "        m = l + (r-l)//2\n",
    "        \n",
    "        if array[m] >= array[0]:\n",
    "            l = m + 1\n",
    "        else:\n",
    "            r = m\n",
    "    return array[l]  "
   ]
  },
  {
   "cell_type": "code",
   "execution_count": 48,
   "id": "335affdb",
   "metadata": {},
   "outputs": [
    {
     "data": {
      "text/plain": [
       "2"
      ]
     },
     "execution_count": 48,
     "metadata": {},
     "output_type": "execute_result"
    }
   ],
   "source": [
    "input_array = [3,3,3,4,5,2,3]\n",
    "minRotations(input_array)"
   ]
  },
  {
   "cell_type": "code",
   "execution_count": 1,
   "id": "bfe8358b",
   "metadata": {},
   "outputs": [],
   "source": [
    "class Node:\n",
    "    def __init__(self, value):\n",
    "        self.value = value\n",
    "        self.next = None\n",
    "\n",
    "\n",
    "class LinkedList:\n",
    "    def __init__(self):\n",
    "        self.head = None\n",
    "\n",
    "    def append(self, value):\n",
    "        new_node = Node(value)\n",
    "        if self.head is None:\n",
    "            self.head = new_node\n",
    "            return\n",
    "        cur = self.head\n",
    "        while cur.next:\n",
    "            cur = cur.next\n",
    "        cur.next = new_node\n"
   ]
  },
  {
   "cell_type": "code",
   "execution_count": 2,
   "id": "353f7fae",
   "metadata": {},
   "outputs": [],
   "source": [
    "ll1 = LinkedList()\n",
    "ll1.append(1)\n",
    "ll1.append(3)\n",
    "ll1.append(4)\n",
    "\n",
    "ll2 = LinkedList()\n",
    "ll2.append(1)\n",
    "ll2.append(3)\n",
    "ll2.append(4)"
   ]
  }
 ],
 "metadata": {
  "kernelspec": {
   "display_name": "mlalgofromscratch",
   "language": "python",
   "name": "python3"
  },
  "language_info": {
   "codemirror_mode": {
    "name": "ipython",
    "version": 3
   },
   "file_extension": ".py",
   "mimetype": "text/x-python",
   "name": "python",
   "nbconvert_exporter": "python",
   "pygments_lexer": "ipython3",
   "version": "3.11.12"
  }
 },
 "nbformat": 4,
 "nbformat_minor": 5
}
