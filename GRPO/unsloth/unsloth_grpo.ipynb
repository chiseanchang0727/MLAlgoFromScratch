{
 "cells": [
  {
   "cell_type": "markdown",
   "id": "884dc606",
   "metadata": {},
   "source": [
    "- Ref: https://colab.research.google.com/github/unslothai/notebooks/blob/main/nb/Qwen3_(4B)-GRPO.ipynb#scrollTo=DkIvEkIIkEyB"
   ]
  },
  {
   "cell_type": "markdown",
   "id": "f79b9ec6",
   "metadata": {},
   "source": [
    "Instal unsloth"
   ]
  },
  {
   "cell_type": "code",
   "execution_count": null,
   "id": "4ac4576a",
   "metadata": {},
   "outputs": [
    {
     "name": "stdout",
     "output_type": "stream",
     "text": [
      "2.5.1+cu124\n"
     ]
    }
   ],
   "source": [
    "import torch\n",
    "print(torch.__version__)\n",
    "# uv add \"unsloth[cu124-torch251] @ git+https://github.com/unslothai/unsloth.git\""
   ]
  },
  {
   "cell_type": "markdown",
   "id": "9db15e63",
   "metadata": {},
   "source": [
    "Pre-fine-tune the model to make GRPO follow the desired output format — this speeds up GRPO."
   ]
  },
  {
   "cell_type": "code",
   "execution_count": null,
   "id": "3961b4b2",
   "metadata": {},
   "outputs": [],
   "source": []
  }
 ],
 "metadata": {
  "kernelspec": {
   "display_name": "mlalgofromscratch",
   "language": "python",
   "name": "python3"
  },
  "language_info": {
   "codemirror_mode": {
    "name": "ipython",
    "version": 3
   },
   "file_extension": ".py",
   "mimetype": "text/x-python",
   "name": "python",
   "nbconvert_exporter": "python",
   "pygments_lexer": "ipython3",
   "version": "3.10.17"
  }
 },
 "nbformat": 4,
 "nbformat_minor": 5
}
