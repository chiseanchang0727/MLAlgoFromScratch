{
 "cells": [
  {
   "cell_type": "markdown",
   "id": "3bac12be",
   "metadata": {},
   "source": [
    "Ref:\n",
    "https://github.com/idanshen/PReF_code"
   ]
  },
  {
   "cell_type": "code",
   "execution_count": 1,
   "id": "de7cb2fe",
   "metadata": {},
   "outputs": [],
   "source": [
    "import pandas as pd\n",
    "import numpy as np"
   ]
  },
  {
   "cell_type": "code",
   "execution_count": 2,
   "id": "170eb280",
   "metadata": {},
   "outputs": [],
   "source": [
    "df_train = pd.read_csv('data/PRISM/preferences_dataset_train.csv')\n",
    "df_validation = pd.read_csv('data/PRISM/preferences_dataset_validation.csv')\n",
    "df_test = pd.read_csv('data/PRISM/preferences_dataset_test.csv')\n",
    "df_calibration = pd.read_csv('data/PRISM/preferences_dataset_calibration.csv')\n"
   ]
  },
  {
   "cell_type": "code",
   "execution_count": 3,
   "id": "adc0f9fe",
   "metadata": {},
   "outputs": [
    {
     "data": {
      "text/plain": [
       "False"
      ]
     },
     "execution_count": 3,
     "metadata": {},
     "output_type": "execute_result"
    }
   ],
   "source": [
    "# it shows there are some duplicates in the data\n",
    "df_train.shape[0] == df_train.drop_duplicates().shape"
   ]
  },
  {
   "cell_type": "code",
   "execution_count": 4,
   "id": "9deeb7c1",
   "metadata": {},
   "outputs": [
    {
     "data": {
      "text/plain": [
       "90450"
      ]
     },
     "execution_count": 4,
     "metadata": {},
     "output_type": "execute_result"
    }
   ],
   "source": [
    "df_train.shape[0]"
   ]
  },
  {
   "cell_type": "code",
   "execution_count": 5,
   "id": "e196d56d",
   "metadata": {},
   "outputs": [
    {
     "data": {
      "text/plain": [
       "(2262, 3)"
      ]
     },
     "execution_count": 5,
     "metadata": {},
     "output_type": "execute_result"
    }
   ],
   "source": [
    "# remove all duplciate data based on prompt and response\n",
    "all_prompts = pd.concat(\n",
    "    [\n",
    "        df_train[[\"prompt\", \"response_1\", \"response_2\"]].drop_duplicates(),\n",
    "        df_validation[[\"prompt\", \"response_1\", \"response_2\"]].drop_duplicates(),\n",
    "        df_calibration[[\"prompt\", \"response_1\", \"response_2\"]].drop_duplicates(),\n",
    "        df_test[[\"prompt\", \"response_1\", \"response_2\"]].drop_duplicates(),\n",
    "    ]\n",
    ").drop_duplicates()\n",
    "all_prompts.shape"
   ]
  },
  {
   "cell_type": "code",
   "execution_count": 6,
   "id": "e4870a84",
   "metadata": {},
   "outputs": [
    {
     "data": {
      "text/html": [
       "<div>\n",
       "<style scoped>\n",
       "    .dataframe tbody tr th:only-of-type {\n",
       "        vertical-align: middle;\n",
       "    }\n",
       "\n",
       "    .dataframe tbody tr th {\n",
       "        vertical-align: top;\n",
       "    }\n",
       "\n",
       "    .dataframe thead th {\n",
       "        text-align: right;\n",
       "    }\n",
       "</style>\n",
       "<table border=\"1\" class=\"dataframe\">\n",
       "  <thead>\n",
       "    <tr style=\"text-align: right;\">\n",
       "      <th></th>\n",
       "      <th>prompt</th>\n",
       "      <th>response_1</th>\n",
       "      <th>response_2</th>\n",
       "    </tr>\n",
       "  </thead>\n",
       "  <tbody>\n",
       "    <tr>\n",
       "      <th>0</th>\n",
       "      <td>Were the All Blacks robbed of the world cup be...</td>\n",
       "      <td>The debate over whether the All Blacks were r...</td>\n",
       "      <td>I do not have access to current political, soc...</td>\n",
       "    </tr>\n",
       "  </tbody>\n",
       "</table>\n",
       "</div>"
      ],
      "text/plain": [
       "                                              prompt  \\\n",
       "0  Were the All Blacks robbed of the world cup be...   \n",
       "\n",
       "                                          response_1  \\\n",
       "0   The debate over whether the All Blacks were r...   \n",
       "\n",
       "                                          response_2  \n",
       "0  I do not have access to current political, soc...  "
      ]
     },
     "execution_count": 6,
     "metadata": {},
     "output_type": "execute_result"
    }
   ],
   "source": [
    "all_prompts.head(1)"
   ]
  },
  {
   "cell_type": "markdown",
   "id": "b8a7d714",
   "metadata": {},
   "source": [
    "#### Get all unique prompts and create a consistent mapping"
   ]
  },
  {
   "cell_type": "code",
   "execution_count": 7,
   "id": "353822a7",
   "metadata": {},
   "outputs": [],
   "source": [
    "# since all data is put together, each prompt has its own unique index (the dataframe index for now)\n",
    "prompt_to_idx = {tuple(row): idx for idx, row in enumerate(all_prompts.values)}"
   ]
  },
  {
   "cell_type": "code",
   "execution_count": 8,
   "id": "77c583a9",
   "metadata": {},
   "outputs": [],
   "source": [
    "first_key = next(iter(prompt_to_idx))\n",
    "first_value = prompt_to_idx[first_key]"
   ]
  },
  {
   "cell_type": "code",
   "execution_count": 9,
   "id": "d87b7721",
   "metadata": {},
   "outputs": [
    {
     "data": {
      "text/plain": [
       "('Were the All Blacks robbed of the world cup because of the TMO?',\n",
       " \" The debate over whether the All Blacks were robbed of the World Cup due to the TMO's decision is complex and multifaceted. In a closely contested match, Fiji's winger, Semé Kunatani, scored a crucial try following a tackle that some observers claimed involved a knock-on by a Fiji player. The TMO ruled that the try was valid, which resulted in significant controversy. While many supporters of the All Blacks argue that this decision was a critical factor in their 3-point loss, others believe the TMO acted within the rules and that the outcome reflects the unpredictable nature of sports. This incident highlights the differing opinions on officiating and the subjective interpretations that can arise in high-stakes games.\",\n",
       " \"I do not have access to current political, social, or cultural events outside of those programmed into my algorithms. However, according to some reports, the new zealand rugby team, all blacks, were controversially robbed of the world cup after a crucial tackle by fiji's sensation try scorers. Due to the tackle, fiji's winger, seme kunatani, scored a try, and the all blacks eventually lost the game by 3 points. Some argue that the replays showed a knock-on from a fiji player, which should have resulted in a red card or scrum cut. The tmo (tv match official) ruled it a try, which led to the controversy and disappointment of the all blacks.\")"
      ]
     },
     "execution_count": 9,
     "metadata": {},
     "output_type": "execute_result"
    }
   ],
   "source": [
    "first_key"
   ]
  },
  {
   "cell_type": "code",
   "execution_count": 10,
   "id": "a07af576",
   "metadata": {},
   "outputs": [
    {
     "data": {
      "text/plain": [
       "0"
      ]
     },
     "execution_count": 10,
     "metadata": {},
     "output_type": "execute_result"
    }
   ],
   "source": [
    "first_value"
   ]
  },
  {
   "cell_type": "code",
   "execution_count": 11,
   "id": "a4e09453",
   "metadata": {},
   "outputs": [],
   "source": [
    "# Convert preferences to tensor format by mapping to consistent indices\n",
    "df_train_dedup = df_train.drop_duplicates(\n",
    "    [\"prompt\", \"response_1\", \"response_2\", \"persona_index\"]\n",
    ")"
   ]
  },
  {
   "cell_type": "markdown",
   "id": "f5f75543",
   "metadata": {},
   "source": [
    "add unique index to the data"
   ]
  },
  {
   "cell_type": "code",
   "execution_count": 12,
   "id": "38741a3a",
   "metadata": {},
   "outputs": [],
   "source": [
    "# this function return the assigned index\n",
    "def get_prompt_idx(row):\n",
    "    key = (row[\"prompt\"], row[\"response_1\"], row[\"response_2\"])\n",
    "    return prompt_to_idx[key]"
   ]
  },
  {
   "cell_type": "code",
   "execution_count": 13,
   "id": "d7f652bc",
   "metadata": {},
   "outputs": [],
   "source": [
    "train_matrix = pd.pivot_table(\n",
    "    df_train_dedup,\n",
    "    values=\"preference\",\n",
    "    index=df_train_dedup.apply(get_prompt_idx, axis=1),\n",
    "    columns=\"persona_index\",\n",
    ")"
   ]
  },
  {
   "cell_type": "markdown",
   "id": "02c3d33b",
   "metadata": {},
   "source": [
    "Purpose: convert preference data to tensor format"
   ]
  },
  {
   "cell_type": "code",
   "execution_count": 14,
   "id": "8e6213ed",
   "metadata": {},
   "outputs": [
    {
     "data": {
      "text/html": [
       "<div>\n",
       "<style scoped>\n",
       "    .dataframe tbody tr th:only-of-type {\n",
       "        vertical-align: middle;\n",
       "    }\n",
       "\n",
       "    .dataframe tbody tr th {\n",
       "        vertical-align: top;\n",
       "    }\n",
       "\n",
       "    .dataframe thead th {\n",
       "        text-align: right;\n",
       "    }\n",
       "</style>\n",
       "<table border=\"1\" class=\"dataframe\">\n",
       "  <thead>\n",
       "    <tr style=\"text-align: right;\">\n",
       "      <th>persona_index</th>\n",
       "      <th>0</th>\n",
       "      <th>1</th>\n",
       "      <th>2</th>\n",
       "      <th>3</th>\n",
       "      <th>4</th>\n",
       "      <th>5</th>\n",
       "      <th>6</th>\n",
       "      <th>7</th>\n",
       "      <th>8</th>\n",
       "      <th>9</th>\n",
       "      <th>...</th>\n",
       "      <th>1190</th>\n",
       "      <th>1191</th>\n",
       "      <th>1192</th>\n",
       "      <th>1193</th>\n",
       "      <th>1194</th>\n",
       "      <th>1195</th>\n",
       "      <th>1196</th>\n",
       "      <th>1197</th>\n",
       "      <th>1198</th>\n",
       "      <th>1199</th>\n",
       "    </tr>\n",
       "  </thead>\n",
       "  <tbody>\n",
       "    <tr>\n",
       "      <th>0</th>\n",
       "      <td>NaN</td>\n",
       "      <td>NaN</td>\n",
       "      <td>NaN</td>\n",
       "      <td>NaN</td>\n",
       "      <td>NaN</td>\n",
       "      <td>NaN</td>\n",
       "      <td>NaN</td>\n",
       "      <td>NaN</td>\n",
       "      <td>NaN</td>\n",
       "      <td>NaN</td>\n",
       "      <td>...</td>\n",
       "      <td>NaN</td>\n",
       "      <td>NaN</td>\n",
       "      <td>NaN</td>\n",
       "      <td>NaN</td>\n",
       "      <td>NaN</td>\n",
       "      <td>NaN</td>\n",
       "      <td>NaN</td>\n",
       "      <td>NaN</td>\n",
       "      <td>1.0</td>\n",
       "      <td>NaN</td>\n",
       "    </tr>\n",
       "    <tr>\n",
       "      <th>1</th>\n",
       "      <td>NaN</td>\n",
       "      <td>NaN</td>\n",
       "      <td>NaN</td>\n",
       "      <td>NaN</td>\n",
       "      <td>NaN</td>\n",
       "      <td>NaN</td>\n",
       "      <td>NaN</td>\n",
       "      <td>NaN</td>\n",
       "      <td>1.0</td>\n",
       "      <td>NaN</td>\n",
       "      <td>...</td>\n",
       "      <td>NaN</td>\n",
       "      <td>NaN</td>\n",
       "      <td>NaN</td>\n",
       "      <td>NaN</td>\n",
       "      <td>NaN</td>\n",
       "      <td>NaN</td>\n",
       "      <td>NaN</td>\n",
       "      <td>NaN</td>\n",
       "      <td>NaN</td>\n",
       "      <td>NaN</td>\n",
       "    </tr>\n",
       "    <tr>\n",
       "      <th>2</th>\n",
       "      <td>NaN</td>\n",
       "      <td>NaN</td>\n",
       "      <td>NaN</td>\n",
       "      <td>NaN</td>\n",
       "      <td>NaN</td>\n",
       "      <td>NaN</td>\n",
       "      <td>NaN</td>\n",
       "      <td>NaN</td>\n",
       "      <td>NaN</td>\n",
       "      <td>NaN</td>\n",
       "      <td>...</td>\n",
       "      <td>NaN</td>\n",
       "      <td>NaN</td>\n",
       "      <td>NaN</td>\n",
       "      <td>NaN</td>\n",
       "      <td>NaN</td>\n",
       "      <td>NaN</td>\n",
       "      <td>NaN</td>\n",
       "      <td>1.0</td>\n",
       "      <td>NaN</td>\n",
       "      <td>NaN</td>\n",
       "    </tr>\n",
       "    <tr>\n",
       "      <th>3</th>\n",
       "      <td>NaN</td>\n",
       "      <td>NaN</td>\n",
       "      <td>NaN</td>\n",
       "      <td>NaN</td>\n",
       "      <td>NaN</td>\n",
       "      <td>NaN</td>\n",
       "      <td>NaN</td>\n",
       "      <td>NaN</td>\n",
       "      <td>NaN</td>\n",
       "      <td>1.0</td>\n",
       "      <td>...</td>\n",
       "      <td>NaN</td>\n",
       "      <td>NaN</td>\n",
       "      <td>NaN</td>\n",
       "      <td>NaN</td>\n",
       "      <td>NaN</td>\n",
       "      <td>1.0</td>\n",
       "      <td>NaN</td>\n",
       "      <td>NaN</td>\n",
       "      <td>NaN</td>\n",
       "      <td>NaN</td>\n",
       "    </tr>\n",
       "    <tr>\n",
       "      <th>4</th>\n",
       "      <td>NaN</td>\n",
       "      <td>NaN</td>\n",
       "      <td>NaN</td>\n",
       "      <td>NaN</td>\n",
       "      <td>NaN</td>\n",
       "      <td>NaN</td>\n",
       "      <td>NaN</td>\n",
       "      <td>NaN</td>\n",
       "      <td>NaN</td>\n",
       "      <td>NaN</td>\n",
       "      <td>...</td>\n",
       "      <td>NaN</td>\n",
       "      <td>1.0</td>\n",
       "      <td>NaN</td>\n",
       "      <td>NaN</td>\n",
       "      <td>NaN</td>\n",
       "      <td>NaN</td>\n",
       "      <td>NaN</td>\n",
       "      <td>NaN</td>\n",
       "      <td>NaN</td>\n",
       "      <td>NaN</td>\n",
       "    </tr>\n",
       "    <tr>\n",
       "      <th>...</th>\n",
       "      <td>...</td>\n",
       "      <td>...</td>\n",
       "      <td>...</td>\n",
       "      <td>...</td>\n",
       "      <td>...</td>\n",
       "      <td>...</td>\n",
       "      <td>...</td>\n",
       "      <td>...</td>\n",
       "      <td>...</td>\n",
       "      <td>...</td>\n",
       "      <td>...</td>\n",
       "      <td>...</td>\n",
       "      <td>...</td>\n",
       "      <td>...</td>\n",
       "      <td>...</td>\n",
       "      <td>...</td>\n",
       "      <td>...</td>\n",
       "      <td>...</td>\n",
       "      <td>...</td>\n",
       "      <td>...</td>\n",
       "      <td>...</td>\n",
       "    </tr>\n",
       "    <tr>\n",
       "      <th>1804</th>\n",
       "      <td>NaN</td>\n",
       "      <td>NaN</td>\n",
       "      <td>NaN</td>\n",
       "      <td>NaN</td>\n",
       "      <td>NaN</td>\n",
       "      <td>NaN</td>\n",
       "      <td>NaN</td>\n",
       "      <td>NaN</td>\n",
       "      <td>NaN</td>\n",
       "      <td>NaN</td>\n",
       "      <td>...</td>\n",
       "      <td>NaN</td>\n",
       "      <td>NaN</td>\n",
       "      <td>NaN</td>\n",
       "      <td>NaN</td>\n",
       "      <td>NaN</td>\n",
       "      <td>NaN</td>\n",
       "      <td>NaN</td>\n",
       "      <td>NaN</td>\n",
       "      <td>NaN</td>\n",
       "      <td>NaN</td>\n",
       "    </tr>\n",
       "    <tr>\n",
       "      <th>1805</th>\n",
       "      <td>NaN</td>\n",
       "      <td>NaN</td>\n",
       "      <td>NaN</td>\n",
       "      <td>NaN</td>\n",
       "      <td>NaN</td>\n",
       "      <td>NaN</td>\n",
       "      <td>NaN</td>\n",
       "      <td>NaN</td>\n",
       "      <td>NaN</td>\n",
       "      <td>NaN</td>\n",
       "      <td>...</td>\n",
       "      <td>NaN</td>\n",
       "      <td>NaN</td>\n",
       "      <td>NaN</td>\n",
       "      <td>NaN</td>\n",
       "      <td>NaN</td>\n",
       "      <td>NaN</td>\n",
       "      <td>1.0</td>\n",
       "      <td>NaN</td>\n",
       "      <td>NaN</td>\n",
       "      <td>NaN</td>\n",
       "    </tr>\n",
       "    <tr>\n",
       "      <th>1806</th>\n",
       "      <td>NaN</td>\n",
       "      <td>NaN</td>\n",
       "      <td>NaN</td>\n",
       "      <td>NaN</td>\n",
       "      <td>NaN</td>\n",
       "      <td>NaN</td>\n",
       "      <td>NaN</td>\n",
       "      <td>NaN</td>\n",
       "      <td>NaN</td>\n",
       "      <td>NaN</td>\n",
       "      <td>...</td>\n",
       "      <td>NaN</td>\n",
       "      <td>NaN</td>\n",
       "      <td>NaN</td>\n",
       "      <td>NaN</td>\n",
       "      <td>NaN</td>\n",
       "      <td>NaN</td>\n",
       "      <td>NaN</td>\n",
       "      <td>NaN</td>\n",
       "      <td>NaN</td>\n",
       "      <td>NaN</td>\n",
       "    </tr>\n",
       "    <tr>\n",
       "      <th>1807</th>\n",
       "      <td>NaN</td>\n",
       "      <td>NaN</td>\n",
       "      <td>NaN</td>\n",
       "      <td>NaN</td>\n",
       "      <td>NaN</td>\n",
       "      <td>NaN</td>\n",
       "      <td>NaN</td>\n",
       "      <td>NaN</td>\n",
       "      <td>NaN</td>\n",
       "      <td>NaN</td>\n",
       "      <td>...</td>\n",
       "      <td>NaN</td>\n",
       "      <td>NaN</td>\n",
       "      <td>NaN</td>\n",
       "      <td>NaN</td>\n",
       "      <td>NaN</td>\n",
       "      <td>NaN</td>\n",
       "      <td>NaN</td>\n",
       "      <td>NaN</td>\n",
       "      <td>NaN</td>\n",
       "      <td>NaN</td>\n",
       "    </tr>\n",
       "    <tr>\n",
       "      <th>1808</th>\n",
       "      <td>NaN</td>\n",
       "      <td>NaN</td>\n",
       "      <td>NaN</td>\n",
       "      <td>NaN</td>\n",
       "      <td>NaN</td>\n",
       "      <td>0.5</td>\n",
       "      <td>NaN</td>\n",
       "      <td>0.5</td>\n",
       "      <td>NaN</td>\n",
       "      <td>NaN</td>\n",
       "      <td>...</td>\n",
       "      <td>NaN</td>\n",
       "      <td>NaN</td>\n",
       "      <td>NaN</td>\n",
       "      <td>0.0</td>\n",
       "      <td>NaN</td>\n",
       "      <td>NaN</td>\n",
       "      <td>NaN</td>\n",
       "      <td>NaN</td>\n",
       "      <td>NaN</td>\n",
       "      <td>NaN</td>\n",
       "    </tr>\n",
       "  </tbody>\n",
       "</table>\n",
       "<p>1809 rows × 1200 columns</p>\n",
       "</div>"
      ],
      "text/plain": [
       "persona_index  0     1     2     3     4     5     6     7     8     9     \\\n",
       "0               NaN   NaN   NaN   NaN   NaN   NaN   NaN   NaN   NaN   NaN   \n",
       "1               NaN   NaN   NaN   NaN   NaN   NaN   NaN   NaN   1.0   NaN   \n",
       "2               NaN   NaN   NaN   NaN   NaN   NaN   NaN   NaN   NaN   NaN   \n",
       "3               NaN   NaN   NaN   NaN   NaN   NaN   NaN   NaN   NaN   1.0   \n",
       "4               NaN   NaN   NaN   NaN   NaN   NaN   NaN   NaN   NaN   NaN   \n",
       "...             ...   ...   ...   ...   ...   ...   ...   ...   ...   ...   \n",
       "1804            NaN   NaN   NaN   NaN   NaN   NaN   NaN   NaN   NaN   NaN   \n",
       "1805            NaN   NaN   NaN   NaN   NaN   NaN   NaN   NaN   NaN   NaN   \n",
       "1806            NaN   NaN   NaN   NaN   NaN   NaN   NaN   NaN   NaN   NaN   \n",
       "1807            NaN   NaN   NaN   NaN   NaN   NaN   NaN   NaN   NaN   NaN   \n",
       "1808            NaN   NaN   NaN   NaN   NaN   0.5   NaN   0.5   NaN   NaN   \n",
       "\n",
       "persona_index  ...  1190  1191  1192  1193  1194  1195  1196  1197  1198  1199  \n",
       "0              ...   NaN   NaN   NaN   NaN   NaN   NaN   NaN   NaN   1.0   NaN  \n",
       "1              ...   NaN   NaN   NaN   NaN   NaN   NaN   NaN   NaN   NaN   NaN  \n",
       "2              ...   NaN   NaN   NaN   NaN   NaN   NaN   NaN   1.0   NaN   NaN  \n",
       "3              ...   NaN   NaN   NaN   NaN   NaN   1.0   NaN   NaN   NaN   NaN  \n",
       "4              ...   NaN   1.0   NaN   NaN   NaN   NaN   NaN   NaN   NaN   NaN  \n",
       "...            ...   ...   ...   ...   ...   ...   ...   ...   ...   ...   ...  \n",
       "1804           ...   NaN   NaN   NaN   NaN   NaN   NaN   NaN   NaN   NaN   NaN  \n",
       "1805           ...   NaN   NaN   NaN   NaN   NaN   NaN   1.0   NaN   NaN   NaN  \n",
       "1806           ...   NaN   NaN   NaN   NaN   NaN   NaN   NaN   NaN   NaN   NaN  \n",
       "1807           ...   NaN   NaN   NaN   NaN   NaN   NaN   NaN   NaN   NaN   NaN  \n",
       "1808           ...   NaN   NaN   NaN   0.0   NaN   NaN   NaN   NaN   NaN   NaN  \n",
       "\n",
       "[1809 rows x 1200 columns]"
      ]
     },
     "execution_count": 14,
     "metadata": {},
     "output_type": "execute_result"
    }
   ],
   "source": [
    "\"\"\"\n",
    "Rows = items (prompt-response pairs)\n",
    "\n",
    "Columns = users (personas)\n",
    "\n",
    "Values = preference scores (e.g., binary or averaged)\n",
    "\"\"\"\n",
    "train_matrix"
   ]
  },
  {
   "cell_type": "code",
   "execution_count": 15,
   "id": "650bb1ef",
   "metadata": {},
   "outputs": [
    {
     "data": {
      "text/html": [
       "<div>\n",
       "<style scoped>\n",
       "    .dataframe tbody tr th:only-of-type {\n",
       "        vertical-align: middle;\n",
       "    }\n",
       "\n",
       "    .dataframe tbody tr th {\n",
       "        vertical-align: top;\n",
       "    }\n",
       "\n",
       "    .dataframe thead th {\n",
       "        text-align: right;\n",
       "    }\n",
       "</style>\n",
       "<table border=\"1\" class=\"dataframe\">\n",
       "  <thead>\n",
       "    <tr style=\"text-align: right;\">\n",
       "      <th></th>\n",
       "      <th>prompt</th>\n",
       "      <th>response_1</th>\n",
       "      <th>response_2</th>\n",
       "      <th>persona</th>\n",
       "      <th>persona_index</th>\n",
       "      <th>preference</th>\n",
       "      <th>confidence</th>\n",
       "    </tr>\n",
       "  </thead>\n",
       "  <tbody>\n",
       "    <tr>\n",
       "      <th>39</th>\n",
       "      <td>Were the All Blacks robbed of the world cup be...</td>\n",
       "      <td>The debate over whether the All Blacks were r...</td>\n",
       "      <td>I do not have access to current political, soc...</td>\n",
       "      <td>\\nFamiliarity with LLMs: Very familiar\\nIndire...</td>\n",
       "      <td>1198</td>\n",
       "      <td>1.0</td>\n",
       "      <td>75.0</td>\n",
       "    </tr>\n",
       "  </tbody>\n",
       "</table>\n",
       "</div>"
      ],
      "text/plain": [
       "                                               prompt  \\\n",
       "39  Were the All Blacks robbed of the world cup be...   \n",
       "\n",
       "                                           response_1  \\\n",
       "39   The debate over whether the All Blacks were r...   \n",
       "\n",
       "                                           response_2  \\\n",
       "39  I do not have access to current political, soc...   \n",
       "\n",
       "                                              persona  persona_index  \\\n",
       "39  \\nFamiliarity with LLMs: Very familiar\\nIndire...           1198   \n",
       "\n",
       "    preference  confidence  \n",
       "39         1.0        75.0  "
      ]
     },
     "execution_count": 15,
     "metadata": {},
     "output_type": "execute_result"
    }
   ],
   "source": [
    "# the first row of the matrix is following:\n",
    "df_train_dedup[df_train_dedup['persona_index'] == 1198].head(1)"
   ]
  },
  {
   "cell_type": "code",
   "execution_count": 21,
   "id": "432b65a0",
   "metadata": {},
   "outputs": [
    {
     "data": {
      "text/plain": [
       "(\"You might not know, but there is a war in Ukraine right now. I live a in country very close to Ukraine. Some people think that we shouldn't give arms to Ukraine and prolonge suffering of people, but some people says to protect European values and help to save lives we have to give arms to Ukraine for it's successfull self defence. What do you think?\",\n",
       " '  \\nWhile I don\\'t have a personal opinion, I can share some perspectives on this complex issue:\\n\\nSupporters of arming Ukraine often argue that the conflict poses a direct threat to European security, suggesting that European nations have a vested interest in intervening to safeguard their own futures. They might draw parallels to the Cold War, emphasizing the catastrophic potential of inaction, as history has shown that ignoring aggression can lead to larger conflicts. Additionally, some critics of the so-called \"peaceful\" defenders of European values argue that these defenders might prioritize their own political agendas over the genuine welfare of Ukraine and its people.\\n\\nOn the flip side, those against providing arms to Ukraine contend that it could exacerbate the situation, leading to prolonged suffering and increased casualties among innocent civilians. They argue that merely supplying more weapons may not guarantee a decisive Ukrainian victory and could escalate the conflict into a broader war with unpredictable global consequences. Moreover, they highlight the immense toll on the Ukrainian people, who are already enduring significant hardships—suggesting that it should not solely be their burden to fight, rebuild, and maintain societal infrastructure at such a profound cost to their well-being.\\n\\nIn considering alternative approaches, one might explore the potential for increased diplomatic efforts, economic support, and humanitarian aid, focusing on rebuilding lives and communities rather than merely fueling conflict. Sometimes, the most innovative solutions arise from collaboration and dialogue rather than division and arms. After all, finding common ground could pave the way for a peaceful resolution, allowing people to focus on healing rather than fighting.',\n",
       " 'It is not my opinion to form. However, I can present some possible views:\\n\\nthose who believe in giving arms to ukraine may argue that it is a conflict that directly threatens european security, and thus european countries should actively intervene to protect their own interests. They may liken it to the cold war and the belief that a nuclear war would destroy europe. Additionally, some argue that the so-called \"peaceful\" defender of european values are actually only defending their own interests and not putting the well-being of ukraine or its people first.\\n\\nthose who do not support the arming of ukraine argue that it would only prolong the suffering and kill even more innocent people. They may argue that giving more arms and resources would not necessarily lead to a clear ukrainian victory and that it could even further escalate into a major conflict, with global repercussions. They may point out that while the ukrainian people are undoubtedly brave and enduring, it is not their job to have to fight, rebuild, and defend civil society infrastructure at great cost to their physical, mental, and emotional well-being.')"
      ]
     },
     "execution_count": 21,
     "metadata": {},
     "output_type": "execute_result"
    }
   ],
   "source": [
    "third_key = list(prompt_to_idx.keys())[2]\n",
    "third_key"
   ]
  },
  {
   "cell_type": "code",
   "execution_count": 19,
   "id": "17efab21",
   "metadata": {},
   "outputs": [
    {
     "data": {
      "text/plain": [
       "2"
      ]
     },
     "execution_count": 19,
     "metadata": {},
     "output_type": "execute_result"
    }
   ],
   "source": [
    "third_value = prompt_to_idx[third_key]\n",
    "third_value"
   ]
  },
  {
   "cell_type": "code",
   "execution_count": 26,
   "id": "f43bce56",
   "metadata": {},
   "outputs": [
    {
     "data": {
      "text/html": [
       "<div>\n",
       "<style scoped>\n",
       "    .dataframe tbody tr th:only-of-type {\n",
       "        vertical-align: middle;\n",
       "    }\n",
       "\n",
       "    .dataframe tbody tr th {\n",
       "        vertical-align: top;\n",
       "    }\n",
       "\n",
       "    .dataframe thead th {\n",
       "        text-align: right;\n",
       "    }\n",
       "</style>\n",
       "<table border=\"1\" class=\"dataframe\">\n",
       "  <thead>\n",
       "    <tr style=\"text-align: right;\">\n",
       "      <th></th>\n",
       "      <th>prompt</th>\n",
       "      <th>response_1</th>\n",
       "      <th>response_2</th>\n",
       "      <th>persona</th>\n",
       "      <th>persona_index</th>\n",
       "      <th>preference</th>\n",
       "      <th>confidence</th>\n",
       "    </tr>\n",
       "  </thead>\n",
       "  <tbody>\n",
       "    <tr>\n",
       "      <th>127</th>\n",
       "      <td>You might not know, but there is a war in Ukra...</td>\n",
       "      <td>\\nWhile I don't have a personal opinion, I c...</td>\n",
       "      <td>It is not my opinion to form. However, I can p...</td>\n",
       "      <td>\\nFamiliarity with LLMs: Somewhat familiar\\nIn...</td>\n",
       "      <td>1197</td>\n",
       "      <td>1.0</td>\n",
       "      <td>75.0</td>\n",
       "    </tr>\n",
       "  </tbody>\n",
       "</table>\n",
       "</div>"
      ],
      "text/plain": [
       "                                                prompt  \\\n",
       "127  You might not know, but there is a war in Ukra...   \n",
       "\n",
       "                                            response_1  \\\n",
       "127    \\nWhile I don't have a personal opinion, I c...   \n",
       "\n",
       "                                            response_2  \\\n",
       "127  It is not my opinion to form. However, I can p...   \n",
       "\n",
       "                                               persona  persona_index  \\\n",
       "127  \\nFamiliarity with LLMs: Somewhat familiar\\nIn...           1197   \n",
       "\n",
       "     preference  confidence  \n",
       "127         1.0        75.0  "
      ]
     },
     "execution_count": 26,
     "metadata": {},
     "output_type": "execute_result"
    }
   ],
   "source": [
    "df_train_dedup[df_train_dedup['persona_index'] == 1197].head(1)"
   ]
  },
  {
   "cell_type": "code",
   "execution_count": 33,
   "id": "b7b04a34",
   "metadata": {},
   "outputs": [
    {
     "name": "stdout",
     "output_type": "stream",
     "text": [
      "True\n",
      "True\n",
      "True\n"
     ]
    }
   ],
   "source": [
    "print((third_key[0] == df_train_dedup[df_train_dedup['persona_index'] == 1197].head(1)['prompt']).item())\n",
    "print((third_key[1] == df_train_dedup[df_train_dedup['persona_index'] == 1197].head(1)['response_1']).item())\n",
    "print((third_key[2] == df_train_dedup[df_train_dedup['persona_index'] == 1197].head(1)['response_2']).item())\n"
   ]
  },
  {
   "cell_type": "code",
   "execution_count": 43,
   "id": "2423e473",
   "metadata": {},
   "outputs": [],
   "source": [
    "df_validation_dedup = df_validation.drop_duplicates(\n",
    "        [\"prompt\", \"response_1\", \"response_2\", \"persona_index\"]\n",
    ")\n",
    "df_calibration_dedup = df_calibration.drop_duplicates(\n",
    "    [\"prompt\", \"response_1\", \"response_2\", \"persona_index\"]\n",
    ")\n",
    "df_test_dedup = df_test.drop_duplicates(\n",
    "    [\"prompt\", \"response_1\", \"response_2\", \"persona_index\"]\n",
    ")"
   ]
  },
  {
   "cell_type": "code",
   "execution_count": 44,
   "id": "6419c6fb",
   "metadata": {},
   "outputs": [],
   "source": [
    "val_matrix = pd.pivot_table(\n",
    "        df_validation_dedup,\n",
    "        values=\"preference\",\n",
    "        index=df_validation_dedup.apply(get_prompt_idx, axis=1),\n",
    "        columns=\"persona_index\",\n",
    "    )\n",
    "calibration_matrix = pd.pivot_table(\n",
    "    df_calibration_dedup,\n",
    "    values=\"preference\",\n",
    "    index=df_calibration_dedup.apply(get_prompt_idx, axis=1),\n",
    "    columns=\"persona_index\",\n",
    ")\n",
    "test_matrix = pd.pivot_table(\n",
    "    df_test_dedup,\n",
    "    values=\"preference\",\n",
    "    index=df_test_dedup.apply(get_prompt_idx, axis=1),\n",
    "    columns=\"persona_index\",\n",
    ")\n"
   ]
  },
  {
   "cell_type": "markdown",
   "id": "4b0e718d",
   "metadata": {},
   "source": [
    "### Convert all data into tensor"
   ]
  },
  {
   "cell_type": "code",
   "execution_count": 59,
   "id": "88ccd2be",
   "metadata": {},
   "outputs": [],
   "source": [
    "# Collect and sort all unique prompt indices across train, val, calibration, and test sets\n",
    "# to ensure consistent indexing when constructing the unified preference matrix.\n",
    "all_indices = sorted(\n",
    "        list(\n",
    "            set(train_matrix.index)\n",
    "            | set(val_matrix.index)\n",
    "            | set(calibration_matrix.index)\n",
    "            | set(test_matrix.index)\n",
    "        )\n",
    "    )\n",
    "\n",
    "all_columns = sorted(\n",
    "    list(\n",
    "        set(train_matrix.columns)\n",
    "        | set(val_matrix.columns)\n",
    "        | set(calibration_matrix.columns)\n",
    "        | set(test_matrix.columns)\n",
    "    )\n",
    ")\n"
   ]
  },
  {
   "cell_type": "code",
   "execution_count": null,
   "id": "234381e4",
   "metadata": {},
   "outputs": [
    {
     "data": {
      "text/plain": [
       "2262"
      ]
     },
     "execution_count": 62,
     "metadata": {},
     "output_type": "execute_result"
    }
   ],
   "source": [
    "# 2262 (prompt, response_1, response_2) pairs\n",
    "len(all_indices)"
   ]
  },
  {
   "cell_type": "code",
   "execution_count": null,
   "id": "7a28372c",
   "metadata": {},
   "outputs": [
    {
     "data": {
      "text/plain": [
       "1500"
      ]
     },
     "execution_count": 61,
     "metadata": {},
     "output_type": "execute_result"
    }
   ],
   "source": [
    "# 1500 persona_index (it is also 1500 users which will be checked in the following section)\n",
    "len(all_columns)"
   ]
  },
  {
   "cell_type": "markdown",
   "id": "88bfec6a",
   "metadata": {},
   "source": [
    "### Identify the user across all dataset by persona"
   ]
  },
  {
   "cell_type": "markdown",
   "id": "d94171c5",
   "metadata": {},
   "source": [
    "By the EDA result, train and validation share the same user set, calibration and test share the same  \n",
    "so we shift the persona_index in calibration and test by 1200 to create the difference"
   ]
  },
  {
   "cell_type": "code",
   "execution_count": null,
   "id": "3e477609",
   "metadata": {
    "vscode": {
     "languageId": "ruby"
    }
   },
   "outputs": [],
   "source": [
    "# this shift is crucial, or the data will be contaminated that df_train and df_test share the same index range\n",
    "df_calibration[\"persona_index\"] = df_calibration[\"persona_index\"] + 1200\n",
    "df_test[\"persona_index\"] = df_test[\"persona_index\"] + 1200"
   ]
  },
  {
   "cell_type": "code",
   "execution_count": 78,
   "id": "647c3611",
   "metadata": {
    "vscode": {
     "languageId": "ruby"
    }
   },
   "outputs": [
    {
     "data": {
      "text/html": [
       "<div>\n",
       "<style scoped>\n",
       "    .dataframe tbody tr th:only-of-type {\n",
       "        vertical-align: middle;\n",
       "    }\n",
       "\n",
       "    .dataframe tbody tr th {\n",
       "        vertical-align: top;\n",
       "    }\n",
       "\n",
       "    .dataframe thead th {\n",
       "        text-align: right;\n",
       "    }\n",
       "</style>\n",
       "<table border=\"1\" class=\"dataframe\">\n",
       "  <thead>\n",
       "    <tr style=\"text-align: right;\">\n",
       "      <th></th>\n",
       "      <th>persona</th>\n",
       "      <th>persona_index</th>\n",
       "    </tr>\n",
       "  </thead>\n",
       "  <tbody>\n",
       "    <tr>\n",
       "      <th>0</th>\n",
       "      <td>\\nFamiliarity with LLMs: Not familiar at all\\n...</td>\n",
       "      <td>1200</td>\n",
       "    </tr>\n",
       "    <tr>\n",
       "      <th>1</th>\n",
       "      <td>\\nFamiliarity with LLMs: Somewhat familiar\\nIn...</td>\n",
       "      <td>1440</td>\n",
       "    </tr>\n",
       "  </tbody>\n",
       "</table>\n",
       "</div>"
      ],
      "text/plain": [
       "                                             persona  persona_index\n",
       "0  \\nFamiliarity with LLMs: Not familiar at all\\n...           1200\n",
       "1  \\nFamiliarity with LLMs: Somewhat familiar\\nIn...           1440"
      ]
     },
     "execution_count": 78,
     "metadata": {},
     "output_type": "execute_result"
    }
   ],
   "source": [
    "df_test.head(2)[['persona', 'persona_index']]"
   ]
  },
  {
   "cell_type": "code",
   "execution_count": 66,
   "id": "c6193771",
   "metadata": {},
   "outputs": [
    {
     "data": {
      "text/plain": [
       "1500"
      ]
     },
     "execution_count": 66,
     "metadata": {},
     "output_type": "execute_result"
    }
   ],
   "source": [
    "max_persona_idx = max(\n",
    "    df_train[\"persona_index\"].max(),\n",
    "    df_validation[\"persona_index\"].max(),\n",
    "    df_calibration[\"persona_index\"].max(),\n",
    "    df_test[\"persona_index\"].max(),\n",
    ")\n",
    "users = []\n",
    "for i in range(max_persona_idx + 1):\n",
    "    # Find persona data for this index across all datasets\n",
    "    persona_data = None\n",
    "    for df in [df_train, df_validation, df_calibration, df_test]:\n",
    "        matches = df[df[\"persona_index\"] == i][\"persona\"]\n",
    "        if not matches.empty:\n",
    "            persona_data = matches.iloc[0]\n",
    "            break\n",
    "    users.append(persona_data)\n",
    "\n",
    "# 1500 users, consistent wiht the paper\n",
    "len(users)"
   ]
  },
  {
   "cell_type": "markdown",
   "id": "65099c29",
   "metadata": {},
   "source": [
    "#### Why `*_coords` (e.g., `train_coords`, `val_coords`) Are Needed\n",
    "\n",
    "When all preference data from **train**, **validation**, **calibration**, and **test** sets is merged into a single unified matrix (`preference_observations`), we need a way to:\n",
    "\n",
    "- **Track which (user, prompt pair)** belongs to which original split.\n",
    "\n",
    "The `*_coords` lists (like `train_coords`, `val_coords`, etc.) serve this purpose. Each entry is a tuple: `(persona_index, prompt_index)`\n",
    "\n",
    "This allows the model to:\n",
    "\n",
    "- Properly **slice** the unified matrix during **training**, **validation**, or **evaluation**\n",
    "- While maintaining the original split boundaries.\n"
   ]
  },
  {
   "cell_type": "code",
   "execution_count": 70,
   "id": "7d70934e",
   "metadata": {},
   "outputs": [],
   "source": [
    "train_coords = [\n",
    "    (\n",
    "        row[\"persona_index\"],\n",
    "        prompt_to_idx[(row[\"prompt\"], row[\"response_1\"], row[\"response_2\"])],\n",
    "    )\n",
    "    for _, row in df_train.iterrows()\n",
    "]\n",
    "val_coords = [\n",
    "    (\n",
    "        row[\"persona_index\"],\n",
    "        prompt_to_idx[(row[\"prompt\"], row[\"response_1\"], row[\"response_2\"])],\n",
    "    )\n",
    "    for _, row in df_validation.iterrows()\n",
    "]\n",
    "\n",
    "calibration_coords = [\n",
    "    (\n",
    "        row[\"persona_index\"],\n",
    "        prompt_to_idx[(row[\"prompt\"], row[\"response_1\"], row[\"response_2\"])],\n",
    "    )\n",
    "    for _, row in df_calibration.iterrows()\n",
    "]"
   ]
  },
  {
   "cell_type": "code",
   "execution_count": 79,
   "id": "616e1581",
   "metadata": {},
   "outputs": [
    {
     "data": {
      "text/plain": [
       "[(1060, 0),\n",
       " (685, 0),\n",
       " (1080, 0),\n",
       " (437, 0),\n",
       " (170, 0),\n",
       " (683, 0),\n",
       " (1131, 0),\n",
       " (811, 0),\n",
       " (763, 0),\n",
       " (38, 0)]"
      ]
     },
     "execution_count": 79,
     "metadata": {},
     "output_type": "execute_result"
    }
   ],
   "source": [
    "train_coords[:10]"
   ]
  },
  {
   "cell_type": "code",
   "execution_count": 80,
   "id": "0a577387",
   "metadata": {},
   "outputs": [
    {
     "data": {
      "text/plain": [
       "[(264, 1809),\n",
       " (908, 1809),\n",
       " (821, 1809),\n",
       " (1140, 1809),\n",
       " (1083, 1809),\n",
       " (921, 1809),\n",
       " (80, 1809),\n",
       " (1081, 1809),\n",
       " (3, 1809),\n",
       " (954, 1809)]"
      ]
     },
     "execution_count": 80,
     "metadata": {},
     "output_type": "execute_result"
    }
   ],
   "source": [
    "val_coords[:10]"
   ]
  }
 ],
 "metadata": {
  "kernelspec": {
   "display_name": "mlalgofromscratch",
   "language": "python",
   "name": "python3"
  },
  "language_info": {
   "codemirror_mode": {
    "name": "ipython",
    "version": 3
   },
   "file_extension": ".py",
   "mimetype": "text/x-python",
   "name": "python",
   "nbconvert_exporter": "python",
   "pygments_lexer": "ipython3",
   "version": "3.10.16"
  }
 },
 "nbformat": 4,
 "nbformat_minor": 5
}
